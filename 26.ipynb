{
 "cells": [
  {
   "cell_type": "code",
   "execution_count": 17,
   "metadata": {},
   "outputs": [
    {
     "name": "stdout",
     "output_type": "stream",
     "text": [
      "Requirement already satisfied: wikipedia in d:\\anaconda\\lib\\site-packages (1.4.0)\n",
      "Requirement already satisfied: beautifulsoup4 in d:\\anaconda\\lib\\site-packages (from wikipedia) (4.9.3)\n",
      "Requirement already satisfied: requests<3.0.0,>=2.0.0 in d:\\anaconda\\lib\\site-packages (from wikipedia) (2.24.0)\n",
      "Requirement already satisfied: soupsieve>1.2; python_version >= \"3.0\" in d:\\anaconda\\lib\\site-packages (from beautifulsoup4->wikipedia) (2.0.1)\n",
      "Requirement already satisfied: certifi>=2017.4.17 in d:\\anaconda\\lib\\site-packages (from requests<3.0.0,>=2.0.0->wikipedia) (2020.6.20)\n",
      "Requirement already satisfied: idna<3,>=2.5 in d:\\anaconda\\lib\\site-packages (from requests<3.0.0,>=2.0.0->wikipedia) (2.10)\n",
      "Requirement already satisfied: urllib3!=1.25.0,!=1.25.1,<1.26,>=1.21.1 in d:\\anaconda\\lib\\site-packages (from requests<3.0.0,>=2.0.0->wikipedia) (1.25.11)\n",
      "Requirement already satisfied: chardet<4,>=3.0.2 in d:\\anaconda\\lib\\site-packages (from requests<3.0.0,>=2.0.0->wikipedia) (3.0.4)\n",
      "Note: you may need to restart the kernel to use updated packages.\n"
     ]
    }
   ],
   "source": [
    "pip install wikipedia"
   ]
  },
  {
   "cell_type": "code",
   "execution_count": 18,
   "metadata": {},
   "outputs": [],
   "source": [
    "import wikipedia"
   ]
  },
  {
   "cell_type": "code",
   "execution_count": 22,
   "metadata": {},
   "outputs": [
    {
     "name": "stdout",
     "output_type": "stream",
     "text": [
      "Albuminuria is a pathological condition wherein the protein albumin is abnormally present in the urine. It is a type of proteinuria.\n"
     ]
    }
   ],
   "source": [
    "print(wikipedia.summary(\"Albuminuria\", sentences=2))"
   ]
  },
  {
   "cell_type": "code",
   "execution_count": 23,
   "metadata": {},
   "outputs": [
    {
     "name": "stdout",
     "output_type": "stream",
     "text": [
      "Albuminuria is a pathological condition wherein the protein albumin is abnormally present in the urine. It is a type of proteinuria. Albumin is a major plasma protein (normally circulating in the blood); in healthy people, only trace amounts of it are present in urine, whereas larger amounts occur in the urine of patients with kidney disease. For a number of reasons, clinical terminology is changing to focus on albuminuria more than proteinuria.\n",
      "\n",
      "\n",
      "== Signs and symptoms ==\n",
      "It is usually asymptomatic but whitish foam may appear in urine. Swelling of the ankles, hands, belly or face may occur if losses of albumin are significant and produce low serum protein levels (nephrotic syndrome).\n",
      "\n",
      "\n",
      "== Causes ==\n",
      "The kidneys normally do not filter large molecules into the urine, so albuminuria can be an indicator of damage to the kidneys or excessive salt intake. It can also occur in patients with long-standing diabetes, especially type 1 diabetes. Recent  international guidelines (KDIGO 2012) reclassified chronic kidney disease (CKD) based on cause, glomerular filtration rate category, and albuminuria category (A1, A2, A3).Causes of albuminuria can be discriminated between by the amount of protein excreted.\n",
      "\n",
      "The nephrotic syndrome usually results in the excretion of about 3.0 to 3.5 grams per 24 hours.\n",
      "Nephritic syndrome results in far less albuminuria.\n",
      "Microalbuminuria (between 30 and 300 mg/24h, mg/l of urine or μg/mg of creatinine) can be a forerunner of diabetic nephropathy. The term albuminuria is now preferred in Nephrology since there is not a \"small albumin\" (microalbuminuria) or a \"big albumin\" (macroalbuminuria). A1 represents normal to mildly increased urinary albumin/creatinine ratio (<30 mg/g or < 3 mg/mmmol); A2 represents moderately increased urinary albumin/creatinine ratio (30–300 mg/g or 3–30 mg/mmmol, previously known as microalbuminuria); and A3 reflects severely increased urinary albumin/creatinine ratio >300 mg/g or > 30 mg/mmol).\n",
      "\n",
      "\n",
      "== Diagnosis ==\n",
      "The amount of protein being lost in the urine can be quantified by collecting the urine for 24 hours, measuring a sample of the pooled urine, and extrapolating to the volume collected.\n",
      "Also a urine dipstick test for proteinuria can give a rough estimate of albuminuria. This is because albumin is by far the dominant plasma protein, and bromophenol blue the agent used in the dipstick is specific to albumin.\n",
      "\n",
      "\n",
      "== Treatment ==\n",
      "Though there is some evidence that dietary interventions (to lower red meat intake) can be helpful in lowering albuminuria levels, there is currently no evidence that low protein interventions correlate to improvement in kidney function. Among other measures, blood pressure control, especially with the use of inhibitors of the renin-angiotensin-system, is the most commonly used therapy to control albuminuria.\n",
      "\n",
      "\n",
      "== References ==\n",
      "\n",
      "\n",
      "== External links ==\n"
     ]
    }
   ],
   "source": [
    "print(wikipedia.page('Albuminuria').content)"
   ]
  },
  {
   "cell_type": "code",
   "execution_count": 24,
   "metadata": {},
   "outputs": [
    {
     "name": "stdout",
     "output_type": "stream",
     "text": [
      "b'Albuminuria is a pathological condition wherein the protein albumin is abnormally present in the urine. It is a type of proteinuria. Albumin is a major plasma protein (normally circulating in the blood); in healthy people, only trace amounts of it are present in urine, whereas larger amounts occur in the urine of patients with kidney disease. For a number of reasons, clinical terminology is changing to focus on albuminuria more than proteinuria.\\n\\n\\n== Signs and symptoms ==\\nIt is usually asymptomatic but whitish foam may appear in urine. Swelling of the ankles, hands, belly or face may occur if losses of albumin are significant and produce low serum protein levels (nephrotic syndrome).\\n\\n\\n== Causes ==\\nThe kidneys normally do not filter large molecules into the urine, so albuminuria can be an indicator of damage to the kidneys or excessive salt intake. It can also occur in patients with long-standing diabetes, especially type 1 diabetes. Recent  international guidelines (KDIGO 2012) reclassified chronic kidney disease (CKD) based on cause, glomerular filtration rate category, and albuminuria category (A1, A2, A3).Causes of albuminuria can be discriminated between by the amount of protein excreted.\\n\\nThe nephrotic syndrome usually results in the excretion of about 3.0 to 3.5 grams per 24 hours.\\nNephritic syndrome results in far less albuminuria.\\nMicroalbuminuria (between 30 and 300 mg/24h, mg/l of urine or \\xce\\xbcg/mg of creatinine) can be a forerunner of diabetic nephropathy. The term albuminuria is now preferred in Nephrology since there is not a \"small albumin\" (microalbuminuria) or a \"big albumin\" (macroalbuminuria). A1 represents normal to mildly increased urinary albumin/creatinine ratio (<30 mg/g or < 3 mg/mmmol); A2 represents moderately increased urinary albumin/creatinine ratio (30\\xe2\\x80\\x93300 mg/g or 3\\xe2\\x80\\x9330 mg/mmmol, previously known as microalbuminuria); and A3 reflects severely increased urinary albumin/creatinine ratio >300 mg/g or > 30 mg/mmol).\\n\\n\\n== Diagnosis ==\\nThe amount of protein being lost in the urine can be quantified by collecting the urine for 24 hours, measuring a sample of the pooled urine, and extrapolating to the volume collected.\\nAlso a urine dipstick test for proteinuria can give a rough estimate of albuminuria. This is because albumin is by far the dominant plasma protein, and bromophenol blue the agent used in the dipstick is specific to albumin.\\n\\n\\n== Treatment ==\\nThough there is some evidence that dietary interventions (to lower red meat intake) can be helpful in lowering albuminuria levels, there is currently no evidence that low protein interventions correlate to improvement in kidney function. Among other measures, blood pressure control, especially with the use of inhibitors of the renin-angiotensin-system, is the most commonly used therapy to control albuminuria.\\n\\n\\n== References ==\\n\\n\\n== External links =='\n"
     ]
    }
   ],
   "source": [
    "result = wikipedia.page('Albuminuria').content.encode('UTF8')\n",
    "print(result)"
   ]
  },
  {
   "cell_type": "code",
   "execution_count": 27,
   "metadata": {},
   "outputs": [
    {
     "name": "stdout",
     "output_type": "stream",
     "text": [
      "The Wikipedia page for 'albumin' has 22 occurrences of the word 'albumin'\n"
     ]
    }
   ],
   "source": [
    "H_count = result.count(b'albumin')\n",
    "print(\"The Wikipedia page for 'albumin' has \" + \\\n",
    "    \"{} occurrences of the word 'albumin'\".format(H_count))"
   ]
  },
  {
   "cell_type": "code",
   "execution_count": 28,
   "metadata": {},
   "outputs": [
    {
     "data": {
      "text/plain": [
       "2872"
      ]
     },
     "execution_count": 28,
     "metadata": {},
     "output_type": "execute_result"
    }
   ],
   "source": [
    "len(wikipedia.page('Albuminuria').content)"
   ]
  },
  {
   "cell_type": "code",
   "execution_count": 29,
   "metadata": {},
   "outputs": [],
   "source": [
    "from bs4 import BeautifulSoup"
   ]
  },
  {
   "cell_type": "code",
   "execution_count": 30,
   "metadata": {},
   "outputs": [],
   "source": [
    "import requests"
   ]
  },
  {
   "cell_type": "code",
   "execution_count": 31,
   "metadata": {},
   "outputs": [],
   "source": [
    "from collections import Counter"
   ]
  },
  {
   "cell_type": "code",
   "execution_count": 32,
   "metadata": {},
   "outputs": [],
   "source": [
    "from string import punctuation"
   ]
  },
  {
   "cell_type": "code",
   "execution_count": 33,
   "metadata": {},
   "outputs": [],
   "source": [
    "r = requests.get(\"https://en.wikipedia.org/wiki/Albuminuria\")"
   ]
  },
  {
   "cell_type": "code",
   "execution_count": 34,
   "metadata": {},
   "outputs": [],
   "source": [
    "soup = BeautifulSoup(r.content)"
   ]
  },
  {
   "cell_type": "code",
   "execution_count": 35,
   "metadata": {},
   "outputs": [],
   "source": [
    "text = (''.join(s.findAll(text=True))for s in soup.findAll('p'))"
   ]
  },
  {
   "cell_type": "code",
   "execution_count": 36,
   "metadata": {},
   "outputs": [],
   "source": [
    "c = Counter((x.rstrip(punctuation).lower() for y in text for x in y.split()))"
   ]
  },
  {
   "cell_type": "code",
   "execution_count": 37,
   "metadata": {},
   "outputs": [
    {
     "name": "stdout",
     "output_type": "stream",
     "text": [
      "[('the', 20), ('of', 14), ('is', 12), ('in', 11), ('urine', 9), ('albuminuria', 8), ('a', 7), ('protein', 7), ('to', 6), ('can', 6)]\n"
     ]
    }
   ],
   "source": [
    "print (c.most_common(10))"
   ]
  },
  {
   "cell_type": "code",
   "execution_count": null,
   "metadata": {},
   "outputs": [],
   "source": []
  }
 ],
 "metadata": {
  "kernelspec": {
   "display_name": "Python 3",
   "language": "python",
   "name": "python3"
  },
  "language_info": {
   "codemirror_mode": {
    "name": "ipython",
    "version": 3
   },
   "file_extension": ".py",
   "mimetype": "text/x-python",
   "name": "python",
   "nbconvert_exporter": "python",
   "pygments_lexer": "ipython3",
   "version": "3.8.5"
  }
 },
 "nbformat": 4,
 "nbformat_minor": 4
}
